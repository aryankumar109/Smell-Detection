{
 "cells": [
  {
   "cell_type": "code",
   "execution_count": 1,
   "id": "083e6b76-cf0a-4742-9c40-7fb1ac7f26fc",
   "metadata": {},
   "outputs": [],
   "source": [
    "import mat73\n",
    "data_dict = mat73.loadmat(r\"C:\\Users\\Aryan\\Documents\\MATLAB\\Kato_et_al - Copy\\Kato_et_al\\ProcData\\EEG\\KM26_s03\\erp_v1.mat\")"
   ]
  },
  {
   "cell_type": "code",
   "execution_count": 2,
   "id": "a41c81ca-67f2-4ac9-95da-67d214116d1e",
   "metadata": {},
   "outputs": [
    {
     "data": {
      "text/plain": [
       "array([[1.000e+00, 3.000e+00, 1.000e+00, 1.013e+03, 1.000e+00],\n",
       "       [2.000e+00, 7.000e+00, 2.000e+00, 3.573e+03, 1.000e+00],\n",
       "       [3.000e+00, 1.600e+01, 2.000e+00, 4.747e+03, 1.000e+00],\n",
       "       ...,\n",
       "       [2.800e+01, 1.700e+01, 2.000e+00, 1.833e+03, 1.000e+01],\n",
       "       [2.900e+01, 7.000e+00, 3.000e+00, 2.249e+03, 1.000e+01],\n",
       "       [3.000e+01, 3.000e+00, 4.000e+00, 3.289e+03, 1.000e+01]])"
      ]
     },
     "execution_count": 2,
     "metadata": {},
     "output_type": "execute_result"
    }
   ],
   "source": [
    "data_dict['log']"
   ]
  },
  {
   "cell_type": "code",
   "execution_count": 6,
   "id": "fdac1202-d494-4ecb-bd78-2968da62c5c0",
   "metadata": {},
   "outputs": [
    {
     "data": {
      "text/plain": [
       "dict_keys(['erp', 'log', 'times'])"
      ]
     },
     "execution_count": 6,
     "metadata": {},
     "output_type": "execute_result"
    }
   ],
   "source": [
    "data_dict.keys()"
   ]
  },
  {
   "cell_type": "code",
   "execution_count": 5,
   "id": "448f88e0-becc-4d04-9ada-ce504ec61e1d",
   "metadata": {},
   "outputs": [
    {
     "data": {
      "text/plain": [
       "(70, 2701, 288)"
      ]
     },
     "execution_count": 5,
     "metadata": {},
     "output_type": "execute_result"
    }
   ],
   "source": [
    "data_dict['erp'].shape"
   ]
  },
  {
   "cell_type": "code",
   "execution_count": 14,
   "id": "f3ddc3bf-d3f1-4a6d-8b3c-e2b39eadb265",
   "metadata": {},
   "outputs": [
    {
     "name": "stdout",
     "output_type": "stream",
     "text": [
      "CSV file generated successfully at: C:\\Users\\Aryan\\Documents\\MATLAB\\Kato_et_al - Copy\\Kato_et_al\\proc_csv\\data_array.csv\n"
     ]
    }
   ],
   "source": [
    "import csv\n",
    "\n",
    "data_array = data_dict['log']\n",
    "\n",
    "# Specify the file path including the directory and the file name\n",
    "csv_file_path = r\"C:\\Users\\Aryan\\Documents\\MATLAB\\Kato_et_al - Copy\\Kato_et_al\\proc_csv\\data_array.csv\"\n",
    "\n",
    "# Writing data to CSV file\n",
    "with open(csv_file_path, 'w', newline='') as file:\n",
    "    writer = csv.writer(file)\n",
    "    \n",
    "    # Write array data\n",
    "    for row in data_array:\n",
    "        writer.writerow(row)\n",
    "\n",
    "print(\"CSV file generated successfully at:\", csv_file_path)\n"
   ]
  },
  {
   "cell_type": "code",
   "execution_count": 9,
   "id": "f9c16626-5be2-4d40-82e2-4232c0670c35",
   "metadata": {},
   "outputs": [
    {
     "name": "stdout",
     "output_type": "stream",
     "text": [
      "Log data from KM26_s01 appended to CSV file: KM26_s01.csv\n",
      "Log data from KM26_s02 appended to CSV file: KM26_s02.csv\n",
      "Log data from KM26_s03 appended to CSV file: KM26_s03.csv\n",
      "Log data from KM26_s04 appended to CSV file: KM26_s04.csv\n",
      "Log data from KM26_s05 appended to CSV file: KM26_s05.csv\n",
      "Log data from KM26_s06 appended to CSV file: KM26_s06.csv\n",
      "Log data from KM26_s08 appended to CSV file: KM26_s08.csv\n",
      "Log data from KM26_s09 appended to CSV file: KM26_s09.csv\n",
      "Log data from KM32_s01 appended to CSV file: KM32_s01.csv\n",
      "Log data from KM32_s02 appended to CSV file: KM32_s02.csv\n",
      "Log data from KM32_s05 appended to CSV file: KM32_s05.csv\n",
      "Log data from KM32_s07 appended to CSV file: KM32_s07.csv\n",
      "Log data from KM32_s08 appended to CSV file: KM32_s08.csv\n",
      "Log data from KM32_s09 appended to CSV file: KM32_s09.csv\n",
      "Log data from KM32_s10 appended to CSV file: KM32_s10.csv\n",
      "Log data from KM32_s11 appended to CSV file: KM32_s11.csv\n",
      "Log data from KM32_s12 appended to CSV file: KM32_s12.csv\n",
      "Log data from KM32_s13 appended to CSV file: KM32_s13.csv\n",
      "Log data from KM32_s14 appended to CSV file: KM32_s14.csv\n",
      "Log data from KM32_s15 appended to CSV file: KM32_s15.csv\n",
      "Log data from KM32_s16 appended to CSV file: KM32_s16.csv\n",
      "Log data from KM32_s17 appended to CSV file: KM32_s17.csv\n"
     ]
    }
   ],
   "source": [
    "import os\n",
    "import mat73\n",
    "import csv\n",
    "\n",
    "root_directory = r\"C:\\Users\\Aryan\\Documents\\MATLAB\\Kato_et_al - Copy\\Kato_et_al\\ProcData\\EEG\"\n",
    "\n",
    "# Get a list of all items (files and directories) in the root directory\n",
    "items_in_root = os.listdir(root_directory)\n",
    "\n",
    "# Filter out only the directories\n",
    "subdirectories = [item for item in items_in_root if os.path.isdir(os.path.join(root_directory, item))]\n",
    "\n",
    "# Iterate over the subdirectories\n",
    "for folder_name in subdirectories:\n",
    "    folder_path = os.path.join(root_directory, folder_name)\n",
    "    file_path = os.path.join(folder_path, \"erp_v1.mat\")\n",
    "    csv_file_path = folder_name + \".csv\"  # CSV file name based on folder name\n",
    "    \n",
    "    # Check if \"erp_v1.mat\" exists in the folder\n",
    "    if os.path.exists(file_path):\n",
    "        # Load the .mat file\n",
    "        data_dict = mat73.loadmat(file_path)\n",
    "        \n",
    "        # Extract data_dict['log'] if it exists\n",
    "        if 'log' in data_dict:\n",
    "            log_data = data_dict['log']\n",
    "            \n",
    "            # Write log data to CSV file\n",
    "            with open(csv_file_path, 'a', newline='') as csv_file:\n",
    "                writer = csv.writer(csv_file)\n",
    "                \n",
    "                \n",
    "                # Write log data to CSV file\n",
    "                for log_entry in log_data:\n",
    "                    writer.writerow(log_entry)  # Write values only\n",
    "\n",
    "            print(f\"Log data from {folder_name} appended to CSV file: {csv_file_path}\")\n",
    "        else:\n",
    "            print(f\"No 'log' data found in {file_path}\")\n",
    "    else:\n",
    "        print(f\"File not found in folder: {folder_path}\")\n"
   ]
  },
  {
   "cell_type": "code",
   "execution_count": 13,
   "id": "3c384e64-fb07-4ecb-9242-49514efe864f",
   "metadata": {},
   "outputs": [
    {
     "name": "stdout",
     "output_type": "stream",
     "text": [
      "CSV file generated successfully at: C:\\Users\\Aryan\\Documents\\MATLAB\\Kato_et_al - Copy\\Kato_et_al\\proc_csv\\data_array2.csv\n"
     ]
    }
   ],
   "source": [
    "import csv\n",
    "\n",
    "data_array = data_dict['log']\n",
    "\n",
    "# Specify the file path including the directory and the file name\n",
    "csv_file_path = r\"C:\\Users\\Aryan\\Documents\\MATLAB\\Kato_et_al - Copy\\Kato_et_al\\proc_csv\\data_array2.csv\"\n",
    "\n",
    "# Writing data to CSV file\n",
    "with open(csv_file_path, 'w', newline='') as file:\n",
    "    writer = csv.writer(file)\n",
    "    \n",
    "    # Write header\n",
    "    writer.writerow(['trial_no', 'odor_no', 'pleasant_rating', 'reaction_time', 'session_no'])\n",
    "    \n",
    "    # Write data to CSV file\n",
    "    for row in data_array:\n",
    "        # Extracting required columns\n",
    "        trial_no = row[0]\n",
    "        odor_no = row[1]\n",
    "        pleasant_rating = row[2]\n",
    "        reaction_time = row[3]\n",
    "        session_no = row[4]\n",
    "        \n",
    "        # Write extracted data to CSV file\n",
    "        writer.writerow([trial_no, odor_no, pleasant_rating, reaction_time, session_no])\n",
    "\n",
    "print(\"CSV file generated successfully at:\", csv_file_path)\n",
    "\n"
   ]
  },
  {
   "cell_type": "code",
   "execution_count": 17,
   "id": "298fc2eb-5eef-48e0-9b31-5cad6974d486",
   "metadata": {},
   "outputs": [
    {
     "name": "stdout",
     "output_type": "stream",
     "text": [
      "Log data from KM26_s01 appended to CSV file: KM26_s01.csv\n",
      "Log data from KM26_s02 appended to CSV file: KM26_s02.csv\n",
      "Log data from KM26_s03 appended to CSV file: KM26_s03.csv\n",
      "Log data from KM26_s04 appended to CSV file: KM26_s04.csv\n",
      "Log data from KM26_s05 appended to CSV file: KM26_s05.csv\n",
      "Log data from KM26_s06 appended to CSV file: KM26_s06.csv\n",
      "Log data from KM26_s08 appended to CSV file: KM26_s08.csv\n",
      "Log data from KM26_s09 appended to CSV file: KM26_s09.csv\n",
      "Log data from KM32_s01 appended to CSV file: KM32_s01.csv\n",
      "Log data from KM32_s02 appended to CSV file: KM32_s02.csv\n",
      "Log data from KM32_s05 appended to CSV file: KM32_s05.csv\n",
      "Log data from KM32_s07 appended to CSV file: KM32_s07.csv\n",
      "Log data from KM32_s08 appended to CSV file: KM32_s08.csv\n",
      "Log data from KM32_s09 appended to CSV file: KM32_s09.csv\n",
      "Log data from KM32_s10 appended to CSV file: KM32_s10.csv\n",
      "Log data from KM32_s11 appended to CSV file: KM32_s11.csv\n",
      "Log data from KM32_s12 appended to CSV file: KM32_s12.csv\n",
      "Log data from KM32_s13 appended to CSV file: KM32_s13.csv\n"
     ]
    },
    {
     "ename": "KeyboardInterrupt",
     "evalue": "",
     "output_type": "error",
     "traceback": [
      "\u001b[1;31m---------------------------------------------------------------------------\u001b[0m",
      "\u001b[1;31mKeyboardInterrupt\u001b[0m                         Traceback (most recent call last)",
      "Cell \u001b[1;32mIn[17], line 22\u001b[0m\n\u001b[0;32m     19\u001b[0m \u001b[38;5;66;03m# Check if \"erp_v1.mat\" exists in the folder\u001b[39;00m\n\u001b[0;32m     20\u001b[0m \u001b[38;5;28;01mif\u001b[39;00m os\u001b[38;5;241m.\u001b[39mpath\u001b[38;5;241m.\u001b[39mexists(file_path):\n\u001b[0;32m     21\u001b[0m     \u001b[38;5;66;03m# Load the .mat file\u001b[39;00m\n\u001b[1;32m---> 22\u001b[0m     data_dict \u001b[38;5;241m=\u001b[39m \u001b[43mmat73\u001b[49m\u001b[38;5;241;43m.\u001b[39;49m\u001b[43mloadmat\u001b[49m\u001b[43m(\u001b[49m\u001b[43mfile_path\u001b[49m\u001b[43m)\u001b[49m\n\u001b[0;32m     24\u001b[0m     \u001b[38;5;66;03m# Extract data_dict['log'] if it exists\u001b[39;00m\n\u001b[0;32m     25\u001b[0m     \u001b[38;5;28;01mif\u001b[39;00m \u001b[38;5;124m'\u001b[39m\u001b[38;5;124mlog\u001b[39m\u001b[38;5;124m'\u001b[39m \u001b[38;5;129;01min\u001b[39;00m data_dict:\n",
      "File \u001b[1;32m~\\anaconda3\\envs\\mne\\Lib\\site-packages\\mat73\\core.py:332\u001b[0m, in \u001b[0;36mloadmat\u001b[1;34m(file, use_attrdict, only_include, verbose)\u001b[0m\n\u001b[0;32m    330\u001b[0m \u001b[38;5;28;01mtry\u001b[39;00m:\n\u001b[0;32m    331\u001b[0m     \u001b[38;5;28;01mwith\u001b[39;00m h5py\u001b[38;5;241m.\u001b[39mFile(file, \u001b[38;5;124m'\u001b[39m\u001b[38;5;124mr\u001b[39m\u001b[38;5;124m'\u001b[39m) \u001b[38;5;28;01mas\u001b[39;00m hdf5:\n\u001b[1;32m--> 332\u001b[0m         dictionary \u001b[38;5;241m=\u001b[39m \u001b[43mdecoder\u001b[49m\u001b[38;5;241;43m.\u001b[39;49m\u001b[43mmat2dict\u001b[49m\u001b[43m(\u001b[49m\u001b[43mhdf5\u001b[49m\u001b[43m)\u001b[49m\n\u001b[0;32m    333\u001b[0m     \u001b[38;5;28;01mreturn\u001b[39;00m dictionary\n\u001b[0;32m    334\u001b[0m \u001b[38;5;28;01mexcept\u001b[39;00m \u001b[38;5;167;01mFileNotFoundError\u001b[39;00m:\n",
      "File \u001b[1;32m~\\anaconda3\\envs\\mne\\Lib\\site-packages\\mat73\\core.py:93\u001b[0m, in \u001b[0;36mHDF5Decoder.mat2dict\u001b[1;34m(self, hdf5)\u001b[0m\n\u001b[0;32m     91\u001b[0m     \u001b[38;5;28;01mif\u001b[39;00m \u001b[38;5;129;01mnot\u001b[39;00m \u001b[38;5;28mself\u001b[39m\u001b[38;5;241m.\u001b[39mis_included(hdf5[var]):\n\u001b[0;32m     92\u001b[0m         \u001b[38;5;28;01mcontinue\u001b[39;00m\n\u001b[1;32m---> 93\u001b[0m     d[var] \u001b[38;5;241m=\u001b[39m \u001b[38;5;28;43mself\u001b[39;49m\u001b[38;5;241;43m.\u001b[39;49m\u001b[43munpack_mat\u001b[49m\u001b[43m(\u001b[49m\u001b[43mhdf5\u001b[49m\u001b[43m[\u001b[49m\u001b[43mvar\u001b[49m\u001b[43m]\u001b[49m\u001b[43m)\u001b[49m\n\u001b[0;32m     95\u001b[0m \u001b[38;5;28;01mif\u001b[39;00m \u001b[38;5;28mself\u001b[39m\u001b[38;5;241m.\u001b[39monly_include \u001b[38;5;129;01mis\u001b[39;00m \u001b[38;5;129;01mnot\u001b[39;00m \u001b[38;5;28;01mNone\u001b[39;00m:\n\u001b[0;32m     96\u001b[0m     \u001b[38;5;28;01mfor\u001b[39;00m var, found \u001b[38;5;129;01min\u001b[39;00m \u001b[38;5;28mself\u001b[39m\u001b[38;5;241m.\u001b[39m_found_include_var\u001b[38;5;241m.\u001b[39mitems():\n",
      "File \u001b[1;32m~\\anaconda3\\envs\\mne\\Lib\\site-packages\\mat73\\core.py:188\u001b[0m, in \u001b[0;36mHDF5Decoder.unpack_mat\u001b[1;34m(self, hdf5, depth, MATLAB_class, force)\u001b[0m\n\u001b[0;32m    186\u001b[0m \u001b[38;5;28;01melif\u001b[39;00m \u001b[38;5;28misinstance\u001b[39m(hdf5, h5py\u001b[38;5;241m.\u001b[39m_hl\u001b[38;5;241m.\u001b[39mdataset\u001b[38;5;241m.\u001b[39mDataset):\n\u001b[0;32m    187\u001b[0m     \u001b[38;5;28;01mif\u001b[39;00m \u001b[38;5;28mself\u001b[39m\u001b[38;5;241m.\u001b[39mis_included(hdf5) \u001b[38;5;129;01mor\u001b[39;00m force:\n\u001b[1;32m--> 188\u001b[0m         \u001b[38;5;28;01mreturn\u001b[39;00m \u001b[38;5;28;43mself\u001b[39;49m\u001b[38;5;241;43m.\u001b[39;49m\u001b[43mconvert_mat\u001b[49m\u001b[43m(\u001b[49m\u001b[43mhdf5\u001b[49m\u001b[43m,\u001b[49m\u001b[43m \u001b[49m\u001b[43mdepth\u001b[49m\u001b[43m,\u001b[49m\u001b[43m \u001b[49m\u001b[43mMATLAB_class\u001b[49m\u001b[38;5;241;43m=\u001b[39;49m\u001b[43mMATLAB_class\u001b[49m\u001b[43m)\u001b[49m\n\u001b[0;32m    189\u001b[0m \u001b[38;5;28;01melse\u001b[39;00m:\n\u001b[0;32m    190\u001b[0m     \u001b[38;5;28;01mraise\u001b[39;00m \u001b[38;5;167;01mException\u001b[39;00m(\u001b[38;5;124mf\u001b[39m\u001b[38;5;124m'\u001b[39m\u001b[38;5;124mUnknown hdf5 type: \u001b[39m\u001b[38;5;132;01m{\u001b[39;00mkey\u001b[38;5;132;01m}\u001b[39;00m\u001b[38;5;124m:\u001b[39m\u001b[38;5;132;01m{\u001b[39;00m\u001b[38;5;28mtype\u001b[39m(hdf5)\u001b[38;5;132;01m}\u001b[39;00m\u001b[38;5;124m'\u001b[39m)\n",
      "File \u001b[1;32m~\\anaconda3\\envs\\mne\\Lib\\site-packages\\mat73\\core.py:290\u001b[0m, in \u001b[0;36mHDF5Decoder.convert_mat\u001b[1;34m(self, dataset, depth, MATLAB_class)\u001b[0m\n\u001b[0;32m    287\u001b[0m \u001b[38;5;66;03m# if it is none of the above, we can convert to numpy array\u001b[39;00m\n\u001b[0;32m    288\u001b[0m \u001b[38;5;28;01melif\u001b[39;00m mtype \u001b[38;5;129;01min\u001b[39;00m (\u001b[38;5;124m'\u001b[39m\u001b[38;5;124mdouble\u001b[39m\u001b[38;5;124m'\u001b[39m, \u001b[38;5;124m'\u001b[39m\u001b[38;5;124msingle\u001b[39m\u001b[38;5;124m'\u001b[39m, \u001b[38;5;124m'\u001b[39m\u001b[38;5;124mint8\u001b[39m\u001b[38;5;124m'\u001b[39m, \u001b[38;5;124m'\u001b[39m\u001b[38;5;124mint16\u001b[39m\u001b[38;5;124m'\u001b[39m, \u001b[38;5;124m'\u001b[39m\u001b[38;5;124mint32\u001b[39m\u001b[38;5;124m'\u001b[39m, \u001b[38;5;124m'\u001b[39m\u001b[38;5;124mint64\u001b[39m\u001b[38;5;124m'\u001b[39m,\n\u001b[0;32m    289\u001b[0m                \u001b[38;5;124m'\u001b[39m\u001b[38;5;124muint8\u001b[39m\u001b[38;5;124m'\u001b[39m, \u001b[38;5;124m'\u001b[39m\u001b[38;5;124muint16\u001b[39m\u001b[38;5;124m'\u001b[39m, \u001b[38;5;124m'\u001b[39m\u001b[38;5;124muint32\u001b[39m\u001b[38;5;124m'\u001b[39m, \u001b[38;5;124m'\u001b[39m\u001b[38;5;124muint64\u001b[39m\u001b[38;5;124m'\u001b[39m):\n\u001b[1;32m--> 290\u001b[0m     arr \u001b[38;5;241m=\u001b[39m \u001b[43mnp\u001b[49m\u001b[38;5;241;43m.\u001b[39;49m\u001b[43marray\u001b[49m\u001b[43m(\u001b[49m\u001b[43mdataset\u001b[49m\u001b[43m,\u001b[49m\u001b[43m \u001b[49m\u001b[43mdtype\u001b[49m\u001b[38;5;241;43m=\u001b[39;49m\u001b[43mdataset\u001b[49m\u001b[38;5;241;43m.\u001b[39;49m\u001b[43mdtype\u001b[49m\u001b[43m)\u001b[49m\n\u001b[0;32m    291\u001b[0m     \u001b[38;5;28;01mreturn\u001b[39;00m arr\u001b[38;5;241m.\u001b[39mT\u001b[38;5;241m.\u001b[39msqueeze()\n\u001b[0;32m    292\u001b[0m \u001b[38;5;28;01melif\u001b[39;00m mtype\u001b[38;5;241m==\u001b[39m\u001b[38;5;124m'\u001b[39m\u001b[38;5;124mmissing\u001b[39m\u001b[38;5;124m'\u001b[39m:\n",
      "File \u001b[1;32mh5py\\_objects.pyx:54\u001b[0m, in \u001b[0;36mh5py._objects.with_phil.wrapper\u001b[1;34m()\u001b[0m\n",
      "File \u001b[1;32mh5py\\_objects.pyx:55\u001b[0m, in \u001b[0;36mh5py._objects.with_phil.wrapper\u001b[1;34m()\u001b[0m\n",
      "File \u001b[1;32m~\\anaconda3\\envs\\mne\\Lib\\site-packages\\h5py\\_hl\\dataset.py:1063\u001b[0m, in \u001b[0;36mDataset.__array__\u001b[1;34m(self, dtype)\u001b[0m\n\u001b[0;32m   1060\u001b[0m \u001b[38;5;28;01mif\u001b[39;00m \u001b[38;5;28mself\u001b[39m\u001b[38;5;241m.\u001b[39msize \u001b[38;5;241m==\u001b[39m \u001b[38;5;241m0\u001b[39m:\n\u001b[0;32m   1061\u001b[0m     \u001b[38;5;28;01mreturn\u001b[39;00m arr\n\u001b[1;32m-> 1063\u001b[0m \u001b[38;5;28;43mself\u001b[39;49m\u001b[38;5;241;43m.\u001b[39;49m\u001b[43mread_direct\u001b[49m\u001b[43m(\u001b[49m\u001b[43marr\u001b[49m\u001b[43m)\u001b[49m\n\u001b[0;32m   1064\u001b[0m \u001b[38;5;28;01mreturn\u001b[39;00m arr\n",
      "File \u001b[1;32m~\\anaconda3\\envs\\mne\\Lib\\site-packages\\h5py\\_hl\\dataset.py:1024\u001b[0m, in \u001b[0;36mDataset.read_direct\u001b[1;34m(self, dest, source_sel, dest_sel)\u001b[0m\n\u001b[0;32m   1021\u001b[0m     dest_sel \u001b[38;5;241m=\u001b[39m sel\u001b[38;5;241m.\u001b[39mselect(dest\u001b[38;5;241m.\u001b[39mshape, dest_sel)\n\u001b[0;32m   1023\u001b[0m \u001b[38;5;28;01mfor\u001b[39;00m mspace \u001b[38;5;129;01min\u001b[39;00m dest_sel\u001b[38;5;241m.\u001b[39mbroadcast(source_sel\u001b[38;5;241m.\u001b[39marray_shape):\n\u001b[1;32m-> 1024\u001b[0m     \u001b[38;5;28;43mself\u001b[39;49m\u001b[38;5;241;43m.\u001b[39;49m\u001b[43mid\u001b[49m\u001b[38;5;241;43m.\u001b[39;49m\u001b[43mread\u001b[49m\u001b[43m(\u001b[49m\u001b[43mmspace\u001b[49m\u001b[43m,\u001b[49m\u001b[43m \u001b[49m\u001b[43mfspace\u001b[49m\u001b[43m,\u001b[49m\u001b[43m \u001b[49m\u001b[43mdest\u001b[49m\u001b[43m,\u001b[49m\u001b[43m \u001b[49m\u001b[43mdxpl\u001b[49m\u001b[38;5;241;43m=\u001b[39;49m\u001b[38;5;28;43mself\u001b[39;49m\u001b[38;5;241;43m.\u001b[39;49m\u001b[43m_dxpl\u001b[49m\u001b[43m)\u001b[49m\n",
      "\u001b[1;31mKeyboardInterrupt\u001b[0m: "
     ]
    }
   ],
   "source": [
    "import os\n",
    "import mat73\n",
    "import csv\n",
    "\n",
    "root_directory = r\"C:\\Users\\Aryan\\Documents\\MATLAB\\Kato_et_al - Copy\\Kato_et_al\\ProcData\\EEG\"\n",
    "\n",
    "# Get a list of all items (files and directories) in the root directory\n",
    "items_in_root = os.listdir(root_directory)\n",
    "\n",
    "# Filter out only the directories\n",
    "subdirectories = [item for item in items_in_root if os.path.isdir(os.path.join(root_directory, item))]\n",
    "\n",
    "# Iterate over the subdirectories\n",
    "for folder_name in subdirectories:\n",
    "    folder_path = os.path.join(root_directory, folder_name)\n",
    "    file_path = os.path.join(folder_path, \"erp_v1.mat\")\n",
    "    csv_file_path = folder_name + \".csv\"  # CSV file name based on folder name\n",
    "    \n",
    "    # Check if \"erp_v1.mat\" exists in the folder\n",
    "    if os.path.exists(file_path):\n",
    "        # Load the .mat file\n",
    "        data_dict = mat73.loadmat(file_path)\n",
    "        \n",
    "        # Extract data_dict['log'] if it exists\n",
    "        if 'log' in data_dict:\n",
    "            log_data = data_dict['log']\n",
    "            \n",
    "            # Write log data to CSV file\n",
    "            with open(csv_file_path, 'a', newline='') as csv_file:\n",
    "                writer = csv.writer(csv_file)\n",
    "\n",
    "                # Write header\n",
    "                writer.writerow(['trial_no', 'odor_no', 'pleasant_rating', 'reaction_time', 'session_no' , 'personID'])\n",
    "                \n",
    "                \n",
    "                # Write log data to CSV file\n",
    "                for log_entry in log_data:\n",
    "                    # Extracting required columns\n",
    "                    trial_no = log_entry[0]\n",
    "                    odor_no = log_entry[1]\n",
    "                    pleasant_rating = log_entry[2]\n",
    "                    reaction_time = log_entry[3]\n",
    "                    session_no = log_entry[4]\n",
    "                    # Write extracted data to CSV file\n",
    "                    writer.writerow([trial_no, odor_no, pleasant_rating, reaction_time, session_no, folder_name])\n",
    "\n",
    "            print(f\"Log data from {folder_name} appended to CSV file: {csv_file_path}\")\n",
    "        else:\n",
    "            print(f\"No 'log' data found in {file_path}\")\n",
    "    else:\n",
    "        print(f\"File not found in folder: {folder_path}\")"
   ]
  },
  {
   "cell_type": "code",
   "execution_count": 19,
   "id": "000d8b78-73be-466d-9e29-56e4ba0125ce",
   "metadata": {},
   "outputs": [
    {
     "name": "stdout",
     "output_type": "stream",
     "text": [
      "Log data from KM26_s01 appended to CSV file: KM26_s01.csv\n",
      "Log data from KM26_s02 appended to CSV file: KM26_s02.csv\n",
      "Log data from KM26_s03 appended to CSV file: KM26_s03.csv\n",
      "Log data from KM26_s04 appended to CSV file: KM26_s04.csv\n",
      "Log data from KM26_s05 appended to CSV file: KM26_s05.csv\n",
      "Log data from KM26_s06 appended to CSV file: KM26_s06.csv\n",
      "Log data from KM26_s08 appended to CSV file: KM26_s08.csv\n",
      "Log data from KM26_s09 appended to CSV file: KM26_s09.csv\n",
      "Log data from KM32_s01 appended to CSV file: KM32_s01.csv\n",
      "Log data from KM32_s02 appended to CSV file: KM32_s02.csv\n",
      "Log data from KM32_s05 appended to CSV file: KM32_s05.csv\n",
      "Log data from KM32_s07 appended to CSV file: KM32_s07.csv\n",
      "Log data from KM32_s08 appended to CSV file: KM32_s08.csv\n",
      "Log data from KM32_s09 appended to CSV file: KM32_s09.csv\n",
      "Log data from KM32_s10 appended to CSV file: KM32_s10.csv\n",
      "Log data from KM32_s11 appended to CSV file: KM32_s11.csv\n",
      "Log data from KM32_s12 appended to CSV file: KM32_s12.csv\n",
      "Log data from KM32_s13 appended to CSV file: KM32_s13.csv\n",
      "Log data from KM32_s14 appended to CSV file: KM32_s14.csv\n",
      "Log data from KM32_s15 appended to CSV file: KM32_s15.csv\n",
      "Log data from KM32_s16 appended to CSV file: KM32_s16.csv\n",
      "Log data from KM32_s17 appended to CSV file: KM32_s17.csv\n",
      "All log data merged into C:\\Users\\Aryan\\Documents\\MATLAB\\Kato_et_al - Copy\\Kato_et_al\\ProcData\\EEG\\processed_csv.csv\n"
     ]
    }
   ],
   "source": [
    "import os\n",
    "import mat73\n",
    "import csv\n",
    "\n",
    "root_directory = r\"C:\\Users\\Aryan\\Documents\\MATLAB\\Kato_et_al - Copy\\Kato_et_al\\ProcData\\EEG\"\n",
    "\n",
    "# Create the processed_csv.csv file\n",
    "processed_csv_file_path = os.path.join(root_directory, \"processed_csv.csv\")\n",
    "with open(processed_csv_file_path, 'w', newline='') as processed_csv_file:\n",
    "    processed_csv_writer = csv.writer(processed_csv_file)\n",
    "    \n",
    "    # Write header to the processed_csv file\n",
    "    processed_csv_writer.writerow(['trial_no', 'odor_no', 'pleasant_rating', 'reaction_time', 'session_no', 'personID'])\n",
    "\n",
    "    # Get a list of all items (files and directories) in the root directory\n",
    "    items_in_root = os.listdir(root_directory)\n",
    "\n",
    "    # Filter out only the directories\n",
    "    subdirectories = [item for item in items_in_root if os.path.isdir(os.path.join(root_directory, item))]\n",
    "\n",
    "    # Iterate over the subdirectories\n",
    "    for folder_name in subdirectories:\n",
    "        folder_path = os.path.join(root_directory, folder_name)\n",
    "        file_path = os.path.join(folder_path, \"erp_v1.mat\")\n",
    "        csv_file_path = folder_name + \".csv\"  # CSV file name based on folder name\n",
    "\n",
    "        # Check if \"erp_v1.mat\" exists in the folder\n",
    "        if os.path.exists(file_path):\n",
    "            # Load the .mat file\n",
    "            data_dict = mat73.loadmat(file_path)\n",
    "\n",
    "            # Extract data_dict['log'] if it exists\n",
    "            if 'log' in data_dict:\n",
    "                log_data = data_dict['log']\n",
    "\n",
    "                # Write log data to CSV file\n",
    "                with open(csv_file_path, 'a', newline='') as csv_file:\n",
    "                    writer = csv.writer(csv_file)\n",
    "\n",
    "                    # Write log data to CSV file\n",
    "                    for log_entry in log_data:\n",
    "                        # Extracting required columns\n",
    "                        trial_no = log_entry[0]\n",
    "                        odor_no = log_entry[1]\n",
    "                        pleasant_rating = log_entry[2]\n",
    "                        reaction_time = log_entry[3]\n",
    "                        session_no = log_entry[4]\n",
    "                        # Write extracted data to CSV file\n",
    "                        writer.writerow([trial_no, odor_no, pleasant_rating, reaction_time, session_no, folder_name])\n",
    "\n",
    "                print(f\"Log data from {folder_name} appended to CSV file: {csv_file_path}\")\n",
    "            else:\n",
    "                print(f\"No 'log' data found in {file_path}\")\n",
    "        else:\n",
    "            print(f\"File not found in folder: {folder_path}\")\n",
    "\n",
    "        # Append data from csv_file_path to the processed_csv file\n",
    "        with open(csv_file_path, 'r') as csv_file:\n",
    "            next(csv_file)  # Skip header\n",
    "            for line in csv_file:\n",
    "                processed_csv_file.write(line)\n",
    "\n",
    "print(f\"All log data merged into {processed_csv_file_path}\")\n"
   ]
  },
  {
   "cell_type": "code",
   "execution_count": null,
   "id": "fc9c81fe-6724-40cd-8c21-ae0276909fb8",
   "metadata": {},
   "outputs": [],
   "source": []
  }
 ],
 "metadata": {
  "kernelspec": {
   "display_name": "mne",
   "language": "python",
   "name": "mne"
  },
  "language_info": {
   "codemirror_mode": {
    "name": "ipython",
    "version": 3
   },
   "file_extension": ".py",
   "mimetype": "text/x-python",
   "name": "python",
   "nbconvert_exporter": "python",
   "pygments_lexer": "ipython3",
   "version": "3.12.2"
  }
 },
 "nbformat": 4,
 "nbformat_minor": 5
}
